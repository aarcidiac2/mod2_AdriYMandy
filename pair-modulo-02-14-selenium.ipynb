{
 "cells": [
  {
   "cell_type": "code",
   "execution_count": 1,
   "metadata": {},
   "outputs": [],
   "source": [
    "import pandas as pd \n",
    "from bs4 import BeautifulSoup\n",
    "import requests"
   ]
  },
  {
   "cell_type": "code",
   "execution_count": 2,
   "metadata": {},
   "outputs": [],
   "source": [
    "from selenium import webdriver  # Selenium es una herramienta para automatizar la interacción con navegadores web.\n",
    "from webdriver_manager.chrome import ChromeDriverManager  # ChromeDriverManager gestiona la instalación del controlador de Chrome.\n",
    "from selenium.webdriver.common.keys import Keys  # Keys es útil para simular eventos de teclado en Selenium.\n",
    "from selenium.webdriver.support.ui import Select"
   ]
  },
  {
   "cell_type": "code",
   "execution_count": 3,
   "metadata": {},
   "outputs": [],
   "source": [
    "from time import sleep \n",
    "pd.set_option('display.max_columns', None)"
   ]
  },
  {
   "cell_type": "code",
   "execution_count": 23,
   "metadata": {},
   "outputs": [
    {
     "name": "stdout",
     "output_type": "stream",
     "text": [
      "✅ accedo a la web\n",
      "✅ entro en Ficcion\n",
      "✅ scroll hasta el catálogo\n",
      "✅ Titulo: TEMOR A LA LUZ\n",
      "✅ Autor: Stella Tack\n",
      "Precio: 25,00 € -5%\n",
      "23,75 €\n"
     ]
    }
   ],
   "source": [
    "driver = webdriver.Chrome()\n",
    "\n",
    "driver.get(\"https://www.casadellibro.com/\")\n",
    "\n",
    "driver.maximize_window()\n",
    "\n",
    "sleep(2)\n",
    "\n",
    "#aceptar cookies\n",
    "driver.find_element(\"css selector\", \"#onetrust-accept-btn-handler\").click()\n",
    "print(\"✅ accedo a la web\")\n",
    "\n",
    "sleep(2)\n",
    "\n",
    "#clickar en categoria ficcion\n",
    "driver.find_element(\"css selector\", \"#m-c > div:nth-child(2) > a\").click()\n",
    "print(\"✅ entro en Ficcion\")\n",
    "\n",
    "sleep(2)\n",
    "\n",
    "driver.execute_script(\"window.scrollBy(0, 2000)\")\n",
    "print(\"✅ scroll hasta el catálogo\")\n",
    "\n",
    "sleep(2)\n",
    "\n",
    "nombre = driver.find_element(\"css selector\", \"#l-p-c > div:nth-child(1) > div:nth-child(4) > a\").text\n",
    "print(f\"✅ Titulo:\", nombre)\n",
    "\n",
    "sleep(2)\n",
    "\n",
    "autor = driver.find_element(\"css selector\",\"#l-p-c > div:nth-child(1) > div:nth-child(4) > p\").text\n",
    "print(f\"✅ Autor:\", autor)\n",
    "\n",
    "sleep(2)\n",
    "\n",
    "precio = driver.find_element(\"css selector\", \"#l-p-c > div:nth-child(1) > div.f-serif.layout-1.product-prices.svelte-76fr39\").text\n",
    "print(f\"Precio:\", precio)\n",
    "\n"
   ]
  },
  {
   "cell_type": "code",
   "execution_count": null,
   "metadata": {},
   "outputs": [],
   "source": []
  },
  {
   "cell_type": "code",
   "execution_count": null,
   "metadata": {},
   "outputs": [],
   "source": []
  },
  {
   "cell_type": "code",
   "execution_count": null,
   "metadata": {},
   "outputs": [],
   "source": []
  }
 ],
 "metadata": {
  "kernelspec": {
   "display_name": "Python 3",
   "language": "python",
   "name": "python3"
  },
  "language_info": {
   "codemirror_mode": {
    "name": "ipython",
    "version": 3
   },
   "file_extension": ".py",
   "mimetype": "text/x-python",
   "name": "python",
   "nbconvert_exporter": "python",
   "pygments_lexer": "ipython3",
   "version": "3.9.6"
  }
 },
 "nbformat": 4,
 "nbformat_minor": 2
}
